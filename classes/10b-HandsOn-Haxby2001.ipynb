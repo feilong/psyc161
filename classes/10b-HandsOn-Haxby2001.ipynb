{
 "cells": [
  {
   "cell_type": "markdown",
   "metadata": {},
   "source": [
    "# Hands-on: Numerical Python -- Getting Real -- Let's reproduce Haxby 2001"
   ]
  },
  {
   "cell_type": "markdown",
   "metadata": {},
   "source": [
    "Do you remember `tutorial_data` we have fetched and used for some excercises?  It is a single subject from [Haxby et al 2001](http://www.sciencemag.org/content/293/5539/2425.long) paper.  Today we will try to reproduce (at least partially) the analysis and results reported in the paper, in particular:\n",
    "\n",
    "![haxby2001_fig4](http://www.sciencemag.org/content/293/5539/2425/F4.large.jpg)"
   ]
  },
  {
   "cell_type": "markdown",
   "metadata": {},
   "source": [
    "We will though analyze two different masks, instead of looking at *all* vs *maximal responsive* voxels: eov (early visual cortex) and vt (ventra temporal cortex).\n",
    "\n",
    "All necessary data is available from `tutorial_data` we have fetched earlier using git-annex:  `tutorial_data/data/attributes.txt` provides us labels for each of the TRs and run index."
   ]
  },
  {
   "cell_type": "code",
   "execution_count": 6,
   "metadata": {
    "collapsed": false
   },
   "outputs": [
    {
     "name": "stdout",
     "output_type": "stream",
     "text": [
      "/Users/feilong/git/psyc161/classes\r\n"
     ]
    }
   ],
   "source": [
    "!pwd"
   ]
  },
  {
   "cell_type": "code",
   "execution_count": 4,
   "metadata": {
    "collapsed": false
   },
   "outputs": [
    {
     "name": "stdout",
     "output_type": "stream",
     "text": [
      "Cloning into 'tutorial_data'...\n",
      "Checking connectivity... done.\n"
     ]
    }
   ],
   "source": [
    "!git clone http://data.pymvpa.org/datasets/tutorial_data/.git"
   ]
  },
  {
   "cell_type": "code",
   "execution_count": 12,
   "metadata": {
    "collapsed": false
   },
   "outputs": [
    {
     "name": "stdout",
     "output_type": "stream",
     "text": [
      "\u001b[34m.\u001b[m\u001b[m                 \u001b[35mbold_mc.par\u001b[m\u001b[m       \u001b[35mmask_vt.nii.gz\u001b[m\u001b[m    \u001b[34msub001\u001b[m\u001b[m\r\n",
      "\u001b[34m..\u001b[m\u001b[m                \u001b[35mbold_mean.nii.gz\u001b[m\u001b[m  \u001b[35mmask_white.nii.gz\u001b[m\u001b[m task_key.txt\r\n",
      "\u001b[35manat.nii.gz\u001b[m\u001b[m       \u001b[35mmask_brain.nii.gz\u001b[m\u001b[m \u001b[34mmodels\u001b[m\u001b[m\r\n",
      "attributes.txt    \u001b[35mmask_gray.nii.gz\u001b[m\u001b[m  scan_key.txt\r\n",
      "\u001b[35mbold.nii.gz\u001b[m\u001b[m       \u001b[35mmask_hoc.nii.gz\u001b[m\u001b[m   study_key.txt\r\n"
     ]
    }
   ],
   "source": [
    "!ls -a tutorial_data/haxby2001"
   ]
  },
  {
   "cell_type": "code",
   "execution_count": 36,
   "metadata": {
    "collapsed": false
   },
   "outputs": [],
   "source": [
    "!ln -s haxby2001/ tutorial_data/data"
   ]
  },
  {
   "cell_type": "code",
   "execution_count": 44,
   "metadata": {
    "collapsed": false
   },
   "outputs": [
    {
     "name": "stdout",
     "output_type": "stream",
     "text": [
      "(merging origin/git-annex into git-annex...)\n",
      "(recording state in git...)\n",
      "/var/folders/d8/7fv 100%[=====================>]     316  --.-KB/s   in 0s     \n",
      "../.git/annex/tmp/S 100%[=====================>] 147.77K   181KB/s   in 0.8s   \n",
      "ok\n",
      "../.git/annex/tmp/S 100%[=====================>]   6.84K  --.-KB/s   in 0.04s  \n",
      "ok\n",
      "../.git/annex/tmp/S 100%[=====================>]  17.33K  --.-KB/s   in 0.09s  \n",
      "ok\n",
      "../.git/annex/tmp/S 100%[=====================>]   6.03K  --.-KB/s   in 0.03s  \n",
      "ok\n",
      "../.git/annex/tmp/S 100%[=====================>]   3.91K  --.-KB/s   in 0s     \n",
      "ok\n",
      "../.git/annex/tmp/S 100%[=====================>]  14.78K  --.-KB/s   in 0.07s  \n",
      "ok\n",
      "../.git/annex/tmp/S 100%[=====================>] 294.28M  3.25MB/s   in 1m 41s \n",
      "ok\n",
      "(recording state in git...)\n"
     ]
    }
   ],
   "source": [
    "!cd tutorial_data/data; git annex get anat.nii.gz mask_* bold.nii.gz"
   ]
  },
  {
   "cell_type": "code",
   "execution_count": 38,
   "metadata": {
    "collapsed": false
   },
   "outputs": [
    {
     "name": "stdout",
     "output_type": "stream",
     "text": [
      "rest 0\r\n",
      "rest 0\r\n",
      "rest 0\r\n",
      "rest 0\r\n",
      "rest 0\r\n",
      "rest 0\r\n",
      "scissors 0\r\n",
      "scissors 0\r\n",
      "scissors 0\r\n",
      "scissors 0\r\n"
     ]
    }
   ],
   "source": [
    "!head tutorial_data/data/attributes.txt "
   ]
  },
  {
   "cell_type": "code",
   "execution_count": 67,
   "metadata": {
    "collapsed": true
   },
   "outputs": [],
   "source": [
    "import numpy as np\n",
    "import nibabel as nib\n",
    "from scipy import stats\n",
    "import matplotlib.pyplot as plt\n",
    "%matplotlib inline"
   ]
  },
  {
   "cell_type": "code",
   "execution_count": 43,
   "metadata": {
    "collapsed": false
   },
   "outputs": [],
   "source": [
    "# Read the stimulus data file from attributes.txt, and obtain two numpy arrays/vectors:\n",
    "mat = np.loadtxt('tutorial_data/data/attributes.txt', dtype=str)\n",
    "targets = mat[:,0]\n",
    "chunks = mat[:,1].astype(int)"
   ]
  },
  {
   "cell_type": "markdown",
   "metadata": {},
   "source": [
    "We will need to load the same BOLD and masks for early visual and ventra-temporal corteces."
   ]
  },
  {
   "cell_type": "code",
   "execution_count": 50,
   "metadata": {
    "collapsed": false
   },
   "outputs": [],
   "source": [
    "# Load BOLD data per each ROI into a dictionary containing data arrays per each mask\n",
    "ROIs = ('vt', 'hoc')\n",
    "all_data = {}\n",
    "bold = nib.load('tutorial_data/data/bold.nii.gz').get_data()\n",
    "for roi in ROIs:\n",
    "    mask = nib.load('tutorial_data/data/mask_%s.nii.gz' % roi).get_data()\n",
    "    if roi == 'hoc':\n",
    "        all_data[roi] = bold[mask==48]\n",
    "    else:\n",
    "        all_data[roi] = bold[mask>0]\n",
    "# all_data = {...}"
   ]
  },
  {
   "cell_type": "code",
   "execution_count": 51,
   "metadata": {
    "collapsed": false
   },
   "outputs": [
    {
     "name": "stdout",
     "output_type": "stream",
     "text": [
      "(40, 64, 64, 1452)\n",
      "vt (577, 1452)\n",
      "hoc (594, 1452)\n"
     ]
    }
   ],
   "source": [
    "print bold.shape\n",
    "for roi in ROIs:\n",
    "    print roi, all_data[roi].shape"
   ]
  },
  {
   "cell_type": "markdown",
   "metadata": {},
   "source": [
    "But meanwhile let's start working with a single ROI, e.g. 'vt'"
   ]
  },
  {
   "cell_type": "code",
   "execution_count": 52,
   "metadata": {
    "collapsed": false
   },
   "outputs": [],
   "source": [
    "data = all_data['vt']"
   ]
  },
  {
   "cell_type": "markdown",
   "metadata": {},
   "source": [
    "Using `chunks` array we have loaded, first split `data` (and `stimuli`) into even and odd runs"
   ]
  },
  {
   "cell_type": "code",
   "execution_count": 55,
   "metadata": {
    "collapsed": false
   },
   "outputs": [
    {
     "name": "stdout",
     "output_type": "stream",
     "text": [
      "(577, 1452)\n"
     ]
    }
   ],
   "source": [
    "print data.shape"
   ]
  },
  {
   "cell_type": "code",
   "execution_count": 85,
   "metadata": {
    "collapsed": false
   },
   "outputs": [
    {
     "name": "stdout",
     "output_type": "stream",
     "text": [
      "(577, 726) (577, 726) (577, 1452)\n"
     ]
    }
   ],
   "source": [
    "even = stats.zscore(data[:, chunks%2 == 0], axis=1)\n",
    "even_targets = targets[chunks%2 == 0]\n",
    "odd = stats.zscore(data[:, chunks%2 == 1], axis=1)\n",
    "odd_targets = targets[chunks%2 == 1]\n",
    "print even.shape, odd.shape, data.shape"
   ]
  },
  {
   "cell_type": "markdown",
   "metadata": {},
   "source": [
    "Now per each of the two splits, estimate mean response pattern per each category (among `stimuli`)"
   ]
  },
  {
   "cell_type": "code",
   "execution_count": 93,
   "metadata": {
    "collapsed": true
   },
   "outputs": [],
   "source": [
    "UT = ['face', 'house', 'cat', 'bottle', 'scissors', 'shoe', 'chair', 'scrambledpix']"
   ]
  },
  {
   "cell_type": "code",
   "execution_count": 86,
   "metadata": {
    "collapsed": true
   },
   "outputs": [],
   "source": [
    "means = {'even':{}, 'odd':{}}\n",
    "for half in ['even', 'odd']:\n",
    "    d = eval(half)\n",
    "    half_targets = eval('%s_targets'%half)\n",
    "    for target in UT:\n",
    "        means[half][target] = d[:, half_targets==target].mean(axis=1)"
   ]
  },
  {
   "cell_type": "code",
   "execution_count": 87,
   "metadata": {
    "collapsed": false
   },
   "outputs": [
    {
     "data": {
      "text/plain": [
       "(0.24483556017393196, 2.5327035088816128e-09)"
      ]
     },
     "execution_count": 87,
     "metadata": {},
     "output_type": "execute_result"
    }
   ],
   "source": [
    "stats.pearsonr(means['even']['face'], means['odd']['cat'])"
   ]
  },
  {
   "cell_type": "code",
   "execution_count": 74,
   "metadata": {
    "collapsed": false
   },
   "outputs": [
    {
     "name": "stdout",
     "output_type": "stream",
     "text": [
      "(577,)\n"
     ]
    }
   ],
   "source": [
    "print means['even']['bottle'].shape"
   ]
  },
  {
   "cell_type": "markdown",
   "metadata": {},
   "source": [
    "Compute correlations between those patterns across splits/targets"
   ]
  },
  {
   "cell_type": "code",
   "execution_count": 94,
   "metadata": {
    "collapsed": false
   },
   "outputs": [],
   "source": [
    "mat = np.ones((8, 8))\n",
    "for i, t1 in enumerate(UT):\n",
    "    for j, t2 in enumerate(UT):\n",
    "        mat[i, j] = stats.pearsonr(means['even'][t1], means['odd'][t2])[0]"
   ]
  },
  {
   "cell_type": "code",
   "execution_count": 96,
   "metadata": {
    "collapsed": false
   },
   "outputs": [
    {
     "data": {
      "image/png": "[encoded data removed]",
      "text/plain": [
       "<matplotlib.figure.Figure at 0x112692c10>"
      ]
     },
     "metadata": {},
     "output_type": "display_data"
    }
   ],
   "source": [
    "plt.imshow(mat, interpolation='none', vmax=1, vmin=-1)\n",
    "plt.xticks(range(len(UT)), UT)\n",
    "plt.yticks(range(len(UT)), UT)\n",
    "plt.show()"
   ]
  },
  {
   "cell_type": "markdown",
   "metadata": {},
   "source": [
    "Visualize them using similar to the publication -- no error bars, nor fancy images, but category labels (`targets`) should be there"
   ]
  },
  {
   "cell_type": "code",
   "execution_count": 104,
   "metadata": {
    "collapsed": false
   },
   "outputs": [
    {
     "data": {
      "image/png": "[encoded data removed]",
      "text/plain": [
       "<matplotlib.figure.Figure at 0x111e1fed0>"
      ]
     },
     "metadata": {},
     "output_type": "display_data"
    }
   ],
   "source": [
    "fig, subs = plt.subplots(8, 1, figsize=(15,15))\n",
    "for i, t1 in enumerate(UT):\n",
    "    subs[i].bar([_ - .4 for _ in range(len(UT))], mat[i,:])\n",
    "    subs[i].set_ylim([-.5, 1])\n",
    "    subs[i].set_xticks(range(len(UT)))\n",
    "    subs[i].set_xticklabels(UT)\n",
    "    subs[i].set_yticks([-.5, 0, .5, 1])\n",
    "    subs[i].set_ylabel(t1)\n",
    "plt.show()"
   ]
  },
  {
   "cell_type": "markdown",
   "metadata": {},
   "source": [
    "## Code refactoring\n",
    "\n",
    "Now we have all functionality, given some data and a design, to obtain correlation between different categories across splits of data.  In the next cell, let's create a function which would incorporate the code we have developed above:"
   ]
  },
  {
   "cell_type": "code",
   "execution_count": null,
   "metadata": {
    "collapsed": false
   },
   "outputs": [],
   "source": [
    "def haxby2001_analysis(data, stimuli):\n",
    "    # TODO\n",
    "    return correlations"
   ]
  },
  {
   "cell_type": "markdown",
   "metadata": {},
   "source": [
    "which we could now apply to the data for multiple ROIs we have previously loaded into `all_data`:"
   ]
  },
  {
   "cell_type": "code",
   "execution_count": null,
   "metadata": {
    "collapsed": false
   },
   "outputs": [],
   "source": []
  },
  {
   "cell_type": "markdown",
   "metadata": {},
   "source": [
    "but before jumping to visualize the results, given our respect to testing, what kind of unit-tests could we create?"
   ]
  },
  {
   "cell_type": "code",
   "execution_count": null,
   "metadata": {
    "collapsed": false
   },
   "outputs": [],
   "source": [
    "from nose.testing import assert_equal\n",
    "from numpy.testing import assert_array_equal\n",
    "\n",
    "def test_haxby2001_TODO():\n",
    "    # TEST IT\n",
    "    pass\n",
    "\n",
    "test_haxby2001_TODO()"
   ]
  },
  {
   "cell_type": "markdown",
   "metadata": {},
   "source": [
    "and after we got confidence that things are working as the should, we could generate our fancy ultimate figure demostrating our results with barplots:\n",
    "similarly to the original figure make them of different colors for within/between categories and two different ROIs we have:"
   ]
  },
  {
   "cell_type": "code",
   "execution_count": null,
   "metadata": {
    "collapsed": false
   },
   "outputs": [],
   "source": [
    "import matplotlib.pyplot as plt"
   ]
  },
  {
   "cell_type": "code",
   "execution_count": null,
   "metadata": {
    "collapsed": false
   },
   "outputs": [],
   "source": [
    "plt.bar"
   ]
  },
  {
   "cell_type": "markdown",
   "metadata": {},
   "source": [
    "## Extra for hungry minds\n",
    "\n",
    "Fetch all of the haxby2001 study data, reuse above code/function to process all the subjects and adjust your ultimate plot with mean and stderr bars across subjects:"
   ]
  },
  {
   "cell_type": "code",
   "execution_count": null,
   "metadata": {
    "collapsed": false
   },
   "outputs": [],
   "source": [
    "!git clone http://data.pymvpa.org/datasets/haxby2001/.git"
   ]
  },
  {
   "cell_type": "code",
   "execution_count": null,
   "metadata": {
    "collapsed": false
   },
   "outputs": [],
   "source": [
    "!cd haxby2001; git annex get */bold.nii.gz */labels.txt */mask*"
   ]
  },
  {
   "cell_type": "code",
   "execution_count": null,
   "metadata": {
    "collapsed": false
   },
   "outputs": [],
   "source": []
  }
 ],
 "metadata": {
  "kernelspec": {
   "display_name": "Python 2",
   "language": "python",
   "name": "python2"
  },
  "language_info": {
   "codemirror_mode": {
    "name": "ipython",
    "version": 2
   },
   "file_extension": ".py",
   "mimetype": "text/x-python",
   "name": "python",
   "nbconvert_exporter": "python",
   "pygments_lexer": "ipython2",
   "version": "2.7.9"
  }
 },
 "nbformat": 4,
 "nbformat_minor": 0
}
